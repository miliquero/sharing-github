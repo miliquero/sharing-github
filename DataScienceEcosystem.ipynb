{
 "cells": [
  {
   "cell_type": "markdown",
   "id": "c803f370",
   "metadata": {},
   "source": [
    "<h1>Data Science Tools and Ecosystem"
   ]
  },
  {
   "cell_type": "markdown",
   "id": "c9125ab5",
   "metadata": {},
   "source": [
    "<h2>In this notebook, Data Science Tools and Ecosystem are summarized."
   ]
  },
  {
   "cell_type": "markdown",
   "id": "e1331e77",
   "metadata": {},
   "source": [
    "<b>Objectives:\n",
    "\n",
    "* List popular languages for Data Science.\n",
    "* List commonly used libraries used by Data Scientists\n",
    "* Calculate arithmeti expressions"
   ]
  },
  {
   "cell_type": "markdown",
   "id": "71d44af5",
   "metadata": {},
   "source": [
    "<p>Some of the popular languages that Data Scientists use are:</p>\n",
    "<p>&nbsp; &nbsp; 1.  Python.</p>\n",
    "<p>&nbsp; &nbsp; 1.  R.</p>\n",
    "<p>&nbsp; &nbsp; 1.  SQL.</p>"
   ]
  },
  {
   "cell_type": "markdown",
   "id": "71ecfd8d",
   "metadata": {},
   "source": [
    "<p>Some of the commonly used libraries used by Data Scientists include:</p>\n",
    "<p>&nbsp; &nbsp; 1. Numpy.</p>\n",
    "<p>&nbsp; &nbsp; 2. Pandas.</p>\n",
    "<p>&nbsp; &nbsp; 3. Plotly.</p>"
   ]
  },
  {
   "cell_type": "markdown",
   "id": "457470bd",
   "metadata": {},
   "source": [
    "### Below are a few examples of evaluating arithmetic expressions in Python\n",
    "\n",
    "<p>&nbsp; &nbsp; 1. 3 + 2</p>\n",
    "<p>&nbsp; &nbsp; 2. 4 - 2</p>\n",
    "<p>&nbsp; &nbsp; 3. 1 / 2</p>"
   ]
  },
  {
   "cell_type": "markdown",
   "id": "e6f23dd1",
   "metadata": {},
   "source": [
    "| Data Science Tools | \n",
    "| --- |\n",
    "| Apache Spark | \n",
    "| Tensor Flow | \n",
    "| RStudio | "
   ]
  },
  {
   "cell_type": "code",
   "execution_count": 4,
   "id": "fd9c93a3",
   "metadata": {},
   "outputs": [
    {
     "data": {
      "text/plain": [
       "17"
      ]
     },
     "execution_count": 4,
     "metadata": {},
     "output_type": "execute_result"
    }
   ],
   "source": [
    "#This a simple arithmetic expression to mutiply then add integers\n",
    "(3*4)+5"
   ]
  },
  {
   "cell_type": "code",
   "execution_count": 5,
   "id": "c6e35ccc",
   "metadata": {},
   "outputs": [
    {
     "data": {
      "text/plain": [
       "3.3333333333333335"
      ]
     },
     "execution_count": 5,
     "metadata": {},
     "output_type": "execute_result"
    }
   ],
   "source": [
    "#This will convert 200 minutes to hours by diving by 60\n",
    "200/60"
   ]
  },
  {
   "cell_type": "markdown",
   "id": "6adbb669",
   "metadata": {},
   "source": [
    "## Author \n",
    "Milagrosa Quero"
   ]
  }
 ],
 "metadata": {
  "kernelspec": {
   "display_name": "Python 3 (ipykernel)",
   "language": "python",
   "name": "python3"
  },
  "language_info": {
   "codemirror_mode": {
    "name": "ipython",
    "version": 3
   },
   "file_extension": ".py",
   "mimetype": "text/x-python",
   "name": "python",
   "nbconvert_exporter": "python",
   "pygments_lexer": "ipython3",
   "version": "3.9.12"
  }
 },
 "nbformat": 4,
 "nbformat_minor": 5
}
